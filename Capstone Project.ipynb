{
    "cells": [
        {
            "cell_type": "markdown",
            "metadata": {
                "collapsed": true
            },
            "source": "## Analysis of EV Charging Station Availability for a Roadtrip Through the Midwest USA\n\n##### Electric vehicles are starting to penetrate the consumer auto market. One significant barrier to their adoption by consumers is the availability of charging stations for non-local excursions. Electric cars have ranges of 300-500 miles, so having confidence in being able to find a charging port while planning any significant road trip becomes rather difficult. Obtaining insight into the availability of charging ports at major cities - and their proximity to hotels - would provide a major boost of confidence to the road trip consumer who owns an electric vehicle. This data could also be used to help determine where a new charging station may be best suited to maximize availability for consumers.\n\n##### FourSquare includes in its a database a list of EV charging locations. To help build confidence in a road trip plan, this data can be used and combined with FourSquare's city hotel data to help plan an itinerary that includes \"distance to charging port\" as a main criterion, along with typical decisional factors like hotel rating and location. For each major city on the route, the location of hotels can be visualized by using clustering to find highly rated hotels which have a charging station within walking distance. Performing this exercise at each major city stopping point along the way will yield a road trip itinerary that ensures adequate and convenient charging capability for an electric vehicle.\n\n"
        },
        {
            "cell_type": "code",
            "execution_count": 1,
            "metadata": {},
            "outputs": [
                {
                    "name": "stdout",
                    "output_type": "stream",
                    "text": "Requirement already satisfied: geopy in /opt/conda/envs/Python36/lib/python3.6/site-packages (1.18.1)\nRequirement already satisfied: geographiclib<2,>=1.49 in /opt/conda/envs/Python36/lib/python3.6/site-packages (from geopy) (1.49)\nRequirement already satisfied: folium in /opt/conda/envs/Python36/lib/python3.6/site-packages (0.11.0)\nRequirement already satisfied: jinja2>=2.9 in /opt/conda/envs/Python36/lib/python3.6/site-packages (from folium) (2.10)\nRequirement already satisfied: requests in /opt/conda/envs/Python36/lib/python3.6/site-packages (from folium) (2.21.0)\nRequirement already satisfied: numpy in /opt/conda/envs/Python36/lib/python3.6/site-packages (from folium) (1.15.4)\nRequirement already satisfied: branca>=0.3.0 in /opt/conda/envs/Python36/lib/python3.6/site-packages (from folium) (0.4.1)\nRequirement already satisfied: MarkupSafe>=0.23 in /opt/conda/envs/Python36/lib/python3.6/site-packages (from jinja2>=2.9->folium) (1.1.0)\nRequirement already satisfied: chardet<3.1.0,>=3.0.2 in /opt/conda/envs/Python36/lib/python3.6/site-packages (from requests->folium) (3.0.4)\nRequirement already satisfied: certifi>=2017.4.17 in /opt/conda/envs/Python36/lib/python3.6/site-packages (from requests->folium) (2020.6.20)\nRequirement already satisfied: urllib3<1.25,>=1.21.1 in /opt/conda/envs/Python36/lib/python3.6/site-packages (from requests->folium) (1.24.1)\nRequirement already satisfied: idna<2.9,>=2.5 in /opt/conda/envs/Python36/lib/python3.6/site-packages (from requests->folium) (2.8)\nFolium installed\nLibraries imported.\n"
                }
            ],
            "source": "import requests # library to handle requests\nimport pandas as pd # library for data analsysis\nimport numpy as np # library to handle data in a vectorized manner\nimport random # library for random number generation\n\n!pip install geopy\nfrom geopy.geocoders import Nominatim # module to convert an address into latitude and longitude values\n\n# libraries for displaying images\nfrom IPython.display import Image \nfrom IPython.core.display import HTML \n    \n# tranforming json file into a pandas dataframe library\nfrom pandas.io.json import json_normalize\n\n!pip install folium\nimport folium # plotting library\n\nprint('Folium installed')\nprint('Libraries imported.')"
        },
        {
            "cell_type": "code",
            "execution_count": null,
            "metadata": {},
            "outputs": [],
            "source": "\n"
        },
        {
            "cell_type": "code",
            "execution_count": 2,
            "metadata": {},
            "outputs": [],
            "source": "CLIENT_ID = 'UJV5PXV1XQOWNEWWMKLKAV52BC0NUD3NLCSMH013P112YYPR' # your Foursquare ID\nCLIENT_SECRET = 'EIU5V1AYEG032Y0V03DEHRHVNHG2DVG0F1XPP022SPLXVM0T' # your Foursquare Secret\nVERSION = '20200720' # Foursquare API version\nLIMIT = 100"
        },
        {
            "cell_type": "code",
            "execution_count": 3,
            "metadata": {},
            "outputs": [],
            "source": "address = ['Los Angeles, CA', 'Las Vegas, NV', 'Provo, UT', 'Denver, CO', 'Topeka, KS', 'St. Louis, MO', 'Cincinnati, OH']\nlatitude_list = []\nlongitude_list = []\n\nfor add in address:\n    geolocator = Nominatim(user_agent=\"foursquare_agent\")\n    location = geolocator.geocode(add)\n    latitude_list.append(location.latitude)\n    longitude_list.append(location.longitude)\n    #print(latitude, longitude)"
        },
        {
            "cell_type": "code",
            "execution_count": 4,
            "metadata": {},
            "outputs": [],
            "source": "radius_hotel = 12000.0\nradius_charging_limit = 1500.0\n\nhotel_category_id = '4bf58dd8d48988d1fa931735'\ncharging_category_id = '5032872391d4c4b30a586d64'\n\n"
        },
        {
            "cell_type": "code",
            "execution_count": 5,
            "metadata": {},
            "outputs": [],
            "source": "latitude = latitude_list[0]\nlongitude = longitude_list[0]\n\nurl = 'https://api.foursquare.com/v2/venues/search?client_id={}&client_secret={}&ll={},{}&v={}&categoryId={}&radius={}&limit={}'.format(CLIENT_ID, CLIENT_SECRET, latitude, longitude, VERSION, hotel_category_id, radius_hotel, LIMIT)"
        },
        {
            "cell_type": "code",
            "execution_count": 6,
            "metadata": {},
            "outputs": [],
            "source": "results_hotel = requests.get(url).json()\n"
        },
        {
            "cell_type": "code",
            "execution_count": 17,
            "metadata": {},
            "outputs": [],
            "source": "# assign relevant part of JSON to venues\nvenues_hotel = results_hotel['response']['venues']\n\n# tranform venues into a dataframe\ndataframe_hotel = json_normalize(venues_hotel)\n\n# keep only columns that include venue name, and anything that is associated with location\nfiltered_columns = ['name', 'categories'] + [col for col in dataframe_hotel.columns if col.startswith('location.')] + ['id']\ndataframe_hotel_filtered = dataframe_hotel.loc[:, filtered_columns]"
        },
        {
            "cell_type": "code",
            "execution_count": 18,
            "metadata": {},
            "outputs": [],
            "source": "\n\n# function that extracts the category of the venue\ndef get_category_type(row):\n    try:\n        categories_list = row['categories']\n    except:\n        categories_list = row['venue.categories']\n        \n    if len(categories_list) == 0:\n        return None\n    else:\n        return categories_list[0]['name']\n\n# filter the category for each row\ndataframe_hotel_filtered['categories'] = dataframe_hotel_filtered.apply(get_category_type, axis=1)\n\n# clean column names by keeping only last term\ndataframe_hotel_filtered.columns = [column.split('.')[-1] for column in dataframe_hotel_filtered.columns]\ndataframe_hotel_filtered['Rating']=np.nan\ndataframe_hotel_filtered['Stations_Count_1500']=np.nan\ndataframe_hotel_filtered['Stations_Count_1000']=np.nan\ndataframe_hotel_filtered['Stations_Count_500']=np.nan\ndataframe_hotel_filtered['Station Min Distance']=np.nan\n\ninitialize = ['a','b','c']\n\ndataframe_hotel_filtered['Stations_Lat_1500']=str(initialize)\ndataframe_hotel_filtered['Stations_Lat_1000']=str(initialize)\ndataframe_hotel_filtered['Stations_Lat_500']=str(initialize)\ndataframe_hotel_filtered['Stations_Lng_1500']=str(initialize)\ndataframe_hotel_filtered['Stations_Lng_1000']=str(initialize)\ndataframe_hotel_filtered['Stations_Lng_500']=str(initialize)\n"
        },
        {
            "cell_type": "code",
            "execution_count": 20,
            "metadata": {
                "scrolled": true
            },
            "outputs": [
                {
                    "name": "stdout",
                    "output_type": "stream",
                    "text": "{'meta': {'code': 429, 'errorType': 'quota_exceeded', 'errorDetail': 'Quota exceeded', 'requestId': '5f1b37faeb4b917f81e2f792'}, 'response': {}}\nnan\n0\n{'meta': {'code': 429, 'errorType': 'quota_exceeded', 'errorDetail': 'Quota exceeded', 'requestId': '5f1b36b0241e64486cfccd70'}, 'response': {}}\nnan\n32\n{'meta': {'code': 429, 'errorType': 'quota_exceeded', 'errorDetail': 'Quota exceeded', 'requestId': '5f1b366e5dc8d450a1d9e2d9'}, 'response': {}}\nnan\n0\n{'meta': {'code': 429, 'errorType': 'quota_exceeded', 'errorDetail': 'Quota exceeded', 'requestId': '5f1b3740979acd6d9119c6d1'}, 'response': {}}\nnan\n0\n{'meta': {'code': 429, 'errorType': 'quota_exceeded', 'errorDetail': 'Quota exceeded', 'requestId': '5f1b35885292fd2d2fc593cf'}, 'response': {}}\nnan\n32\n{'meta': {'code': 429, 'errorType': 'quota_exceeded', 'errorDetail': 'Quota exceeded', 'requestId': '5f1b37751e406e2232357aa0'}, 'response': {}}\nnan\n17\n{'meta': {'code': 429, 'errorType': 'quota_exceeded', 'errorDetail': 'Quota exceeded', 'requestId': '5f1b38464e2c576b1df3d64a'}, 'response': {}}\nnan\n0\n{'meta': {'code': 429, 'errorType': 'quota_exceeded', 'errorDetail': 'Quota exceeded', 'requestId': '5f1b350c1f45d50bae822e10'}, 'response': {}}\nnan\n0\n{'meta': {'code': 429, 'errorType': 'quota_exceeded', 'errorDetail': 'Quota exceeded', 'requestId': '5f1b354c588ea57d025c7cb2'}, 'response': {}}\nnan\n34\n{'meta': {'code': 429, 'errorType': 'quota_exceeded', 'errorDetail': 'Quota exceeded', 'requestId': '5f1b358d3757857343fdacc8'}, 'response': {}}\nnan\n0\n{'meta': {'code': 429, 'errorType': 'quota_exceeded', 'errorDetail': 'Quota exceeded', 'requestId': '5f1b34f140ea3c7ec7fb94f2'}, 'response': {}}\nnan\n0\n{'meta': {'code': 429, 'errorType': 'quota_exceeded', 'errorDetail': 'Quota exceeded', 'requestId': '5f1b352413a607527c1555c5'}, 'response': {}}\nnan\n0\n{'meta': {'code': 429, 'errorType': 'quota_exceeded', 'errorDetail': 'Quota exceeded', 'requestId': '5f1b373a793b891f9c30815f'}, 'response': {}}\nnan\n15\n{'meta': {'code': 429, 'errorType': 'quota_exceeded', 'errorDetail': 'Quota exceeded', 'requestId': '5f1b36a5e301787aa970d641'}, 'response': {}}\nnan\n34\n{'meta': {'code': 429, 'errorType': 'quota_exceeded', 'errorDetail': 'Quota exceeded', 'requestId': '5f1b36b0fcc0f268b52543f0'}, 'response': {}}\nnan\n0\n{'meta': {'code': 429, 'errorType': 'quota_exceeded', 'errorDetail': 'Quota exceeded', 'requestId': '5f1b35bf6ba38f04b5af3636'}, 'response': {}}\nnan\n14\n{'meta': {'code': 429, 'errorType': 'quota_exceeded', 'errorDetail': 'Quota exceeded', 'requestId': '5f1b36c9b0d9d01cac48e47b'}, 'response': {}}\nnan\n0\n{'meta': {'code': 429, 'errorType': 'quota_exceeded', 'errorDetail': 'Quota exceeded', 'requestId': '5f1b36593c3b6c57584b3b54'}, 'response': {}}\nnan\n17\n{'meta': {'code': 429, 'errorType': 'quota_exceeded', 'errorDetail': 'Quota exceeded', 'requestId': '5f1b36ed2321bc05cd7f188a'}, 'response': {}}\nnan\n17\n{'meta': {'code': 429, 'errorType': 'quota_exceeded', 'errorDetail': 'Quota exceeded', 'requestId': '5f1b36bbe10aee11f2adb7b6'}, 'response': {}}\nnan\n17\n{'meta': {'code': 429, 'errorType': 'quota_exceeded', 'errorDetail': 'Quota exceeded', 'requestId': '5f1b34aaacc3b6486dcc2335'}, 'response': {}}\nnan\n34\n{'meta': {'code': 429, 'errorType': 'quota_exceeded', 'errorDetail': 'Quota exceeded', 'requestId': '5f1b36745dc8d450a1d9f956'}, 'response': {}}\nnan\n0\n{'meta': {'code': 429, 'errorType': 'quota_exceeded', 'errorDetail': 'Quota exceeded', 'requestId': '5f1b3722b7cc8707f6f54051'}, 'response': {}}\nnan\n17\n{'meta': {'code': 429, 'errorType': 'quota_exceeded', 'errorDetail': 'Quota exceeded', 'requestId': '5f1b37265f97f06b3208b48f'}, 'response': {}}\nnan\n0\n{'meta': {'code': 429, 'errorType': 'quota_exceeded', 'errorDetail': 'Quota exceeded', 'requestId': '5f1b3837fa27bf362057a733'}, 'response': {}}\nnan\n0\n{'meta': {'code': 429, 'errorType': 'quota_exceeded', 'errorDetail': 'Quota exceeded', 'requestId': '5f1b37516bee2909111503ae'}, 'response': {}}\nnan\n0\n{'meta': {'code': 429, 'errorType': 'quota_exceeded', 'errorDetail': 'Quota exceeded', 'requestId': '5f1b373f793b891f9c309296'}, 'response': {}}\nnan\n34\n{'meta': {'code': 429, 'errorType': 'quota_exceeded', 'errorDetail': 'Quota exceeded', 'requestId': '5f1b372819523654708ba2f2'}, 'response': {}}\nnan\n0\n{'meta': {'code': 429, 'errorType': 'quota_exceeded', 'errorDetail': 'Quota exceeded', 'requestId': '5f1b358ecbd37754ccb48b03'}, 'response': {}}\nnan\n0\n{'meta': {'code': 429, 'errorType': 'quota_exceeded', 'errorDetail': 'Quota exceeded', 'requestId': '5f1b3569aa50f9650978703d'}, 'response': {}}\nnan\n17\n{'meta': {'code': 429, 'errorType': 'quota_exceeded', 'errorDetail': 'Quota exceeded', 'requestId': '5f1b34b8802bda45ac97c182'}, 'response': {}}\nnan\n0\n{'meta': {'code': 429, 'errorType': 'quota_exceeded', 'errorDetail': 'Quota exceeded', 'requestId': '5f1b34aeacc3b6486dcc2f2b'}, 'response': {}}\nnan\n32\n{'meta': {'code': 429, 'errorType': 'quota_exceeded', 'errorDetail': 'Quota exceeded', 'requestId': '5f1b36ff92bf98175bdd0953'}, 'response': {}}\nnan\n0\n{'meta': {'code': 429, 'errorType': 'quota_exceeded', 'errorDetail': 'Quota exceeded', 'requestId': '5f1b3805eb4b917f81e31d24'}, 'response': {}}\nnan\n0\n{'meta': {'code': 429, 'errorType': 'quota_exceeded', 'errorDetail': 'Quota exceeded', 'requestId': '5f1b384e4e2c576b1df3f561'}, 'response': {}}\nnan\n0\n{'meta': {'code': 429, 'errorType': 'quota_exceeded', 'errorDetail': 'Quota exceeded', 'requestId': '5f1b36785dc8d450a1da07a4'}, 'response': {}}\nnan\n0\n{'meta': {'code': 429, 'errorType': 'quota_exceeded', 'errorDetail': 'Quota exceeded', 'requestId': '5f1b384f4e2c576b1df3f771'}, 'response': {}}\nnan\n0\n{'meta': {'code': 429, 'errorType': 'quota_exceeded', 'errorDetail': 'Quota exceeded', 'requestId': '5f1b363dc0cd9c37321a10cb'}, 'response': {}}\nnan\n0\n{'meta': {'code': 429, 'errorType': 'quota_exceeded', 'errorDetail': 'Quota exceeded', 'requestId': '5f1b3591cbd37754ccb4948e'}, 'response': {}}\nnan\n0\n{'meta': {'code': 429, 'errorType': 'quota_exceeded', 'errorDetail': 'Quota exceeded', 'requestId': '5f1b372751d07f34bc51a9e7'}, 'response': {}}\nnan\n32\n{'meta': {'code': 429, 'errorType': 'quota_exceeded', 'errorDetail': 'Quota exceeded', 'requestId': '5f1b3769756ca83e41532242'}, 'response': {}}\nnan\n0\n{'meta': {'code': 429, 'errorType': 'quota_exceeded', 'errorDetail': 'Quota exceeded', 'requestId': '5f1b3667103eb707d0f52a12'}, 'response': {}}\nnan\n0\n{'meta': {'code': 429, 'errorType': 'quota_exceeded', 'errorDetail': 'Quota exceeded', 'requestId': '5f1b36d5a999e1666e558377'}, 'response': {}}\nnan\n0\n{'meta': {'code': 429, 'errorType': 'quota_exceeded', 'errorDetail': 'Quota exceeded', 'requestId': '5f1b352d13a607527c157877'}, 'response': {}}\nnan\n0\n{'meta': {'code': 429, 'errorType': 'quota_exceeded', 'errorDetail': 'Quota exceeded', 'requestId': '5f1b3512803a4b4e51d2da55'}, 'response': {}}\nnan\n0\n{'meta': {'code': 429, 'errorType': 'quota_exceeded', 'errorDetail': 'Quota exceeded', 'requestId': '5f1b36656102276221765b01'}, 'response': {}}\nnan\n0\n{'meta': {'code': 429, 'errorType': 'quota_exceeded', 'errorDetail': 'Quota exceeded', 'requestId': '5f1b36666102276221765bf2'}, 'response': {}}\nnan\n15\n{'meta': {'code': 429, 'errorType': 'quota_exceeded', 'errorDetail': 'Quota exceeded', 'requestId': '5f1b374d979acd6d9119f6c3'}, 'response': {}}\nnan\n0\n{'meta': {'code': 429, 'errorType': 'quota_exceeded', 'errorDetail': 'Quota exceeded', 'requestId': '5f1b36c3e10aee11f2add693'}, 'response': {}}\nnan\n0\n{'meta': {'code': 429, 'errorType': 'quota_exceeded', 'errorDetail': 'Quota exceeded', 'requestId': '5f1b371cd8d6542aaa594228'}, 'response': {}}\nnan\n15\n"
                }
            ],
            "source": "radius_charging_limit = 1500.0\n\nHotel_Lat_List = dataframe_hotel_filtered['lat'].tolist()\nHotel_Lng_List = dataframe_hotel_filtered['lng'].tolist()\nHotel_id_List = dataframe_hotel_filtered['id'].tolist()\n\nfor Latitude, Longitude, venue_id in zip(Hotel_Lat_List,Hotel_Lng_List,Hotel_id_List):\n    \n    url_hotel_venue = 'https://api.foursquare.com/v2/venues/{}?client_id={}&client_secret={}&v={}'.format(venue_id, CLIENT_ID, CLIENT_SECRET, VERSION)\n    result_hotel_venue = requests.get(url_hotel_venue).json()\n    print(result_hotel_venue)\n    try:\n        rating = result_hotel_venue['response']['venue']['rating']\n    except:\n        rating = np.nan\n    \n    print(rating)\n    dataframe_hotel_filtered.loc[dataframe_hotel_filtered.id==venue_id,'Rating'] = rating\n\n    url_charging = 'https://api.foursquare.com/v2/venues/search?client_id={}&client_secret={}&ll={},{}&v={}&categoryId={}&radius={}&limit={}'.format(CLIENT_ID, CLIENT_SECRET, Latitude, Longitude, VERSION, charging_category_id, radius_charging_limit, LIMIT)\n    results_charging_station = requests.get(url_charging).json()\n\n    # assign relevant part of JSON to venues\n    try:\n        venues_charging_station = results_charging_station['response']['venues']\n        # tranform venues into a dataframe\n        dataframe_charging_station = json_normalize(venues_charging_station)\n    except:\n        print('exception')\n        dataframe_charging_station = pd.DataFrame(columns=[])\n    \n    print(dataframe_charging_station.size)\n    if dataframe_charging_station.size > 0:\n        # keep only columns that include venue name, and anything that is associated with location\n        filtered_columns = ['name', 'categories'] + [col for col in dataframe_charging_station.columns if col.startswith('location.')] + ['id']\n        dataframe_charging_station_filtered = dataframe_charging_station.loc[:, filtered_columns]\n        \n        # filter the category for each row\n        dataframe_charging_station_filtered['categories'] = dataframe_charging_station_filtered.apply(get_category_type, axis=1)\n\n        # clean column names by keeping only last term\n        dataframe_charging_station_filtered.columns = [column.split('.')[-1] for column in dataframe_charging_station_filtered.columns]\n        \n        dataframe_charging_station_filtered_1500 = dataframe_charging_station_filtered[dataframe_charging_station_filtered['distance'] <= 1500]\n        dataframe_charging_station_filtered_1000 = dataframe_charging_station_filtered[dataframe_charging_station_filtered['distance'] <= 1000]\n        dataframe_charging_station_filtered_500 = dataframe_charging_station_filtered[dataframe_charging_station_filtered['distance'] <= 500]\n        \n        count_1500 = dataframe_charging_station_filtered_1500.id.count()\n        count_1000 = dataframe_charging_station_filtered_1000.id.count()\n        count_500 = dataframe_charging_station_filtered_500.id.count()\n\n        lat_1500 = dataframe_charging_station_filtered_1500['lat'].tolist()\n        lng_1500 = dataframe_charging_station_filtered_1500['lng'].tolist()\n\n        lat_1000 = dataframe_charging_station_filtered_1000['lat'].tolist()\n        lng_1000 = dataframe_charging_station_filtered_1000['lng'].tolist()\n\n        lat_500 = dataframe_charging_station_filtered_500['lat'].tolist()\n        lng_500 = dataframe_charging_station_filtered_500['lng'].tolist()\n        \n        dataframe_hotel_filtered.loc[dataframe_hotel_filtered.id==venue_id,'Stations_Count_1500'] = count_1500\n        dataframe_hotel_filtered.loc[dataframe_hotel_filtered.id==venue_id,'Stations_Count_1000'] = count_1000\n        dataframe_hotel_filtered.loc[dataframe_hotel_filtered.id==venue_id,'Stations_Count_500'] = count_500\n\n        dataframe_hotel_filtered.loc[dataframe_hotel_filtered.id==venue_id,'Stations_Lat_1500'] = str(lat_1500)\n        dataframe_hotel_filtered.loc[dataframe_hotel_filtered.id==venue_id,'Stations_Lat_1000'] = str(lat_1000)\n        dataframe_hotel_filtered.loc[dataframe_hotel_filtered.id==venue_id,'Stations_Lat_500'] = str(lat_500)\n\n        dataframe_hotel_filtered.loc[dataframe_hotel_filtered.id==venue_id,'Stations_Lng_1500'] = str(lng_1500)\n        dataframe_hotel_filtered.loc[dataframe_hotel_filtered.id==venue_id,'Stations_Lng_1000'] = str(lng_1000)\n        dataframe_hotel_filtered.loc[dataframe_hotel_filtered.id==venue_id,'Stations_Lng_500'] = str(lng_500)    \n        \n        dataframe_hotel_filtered.loc[dataframe_hotel_filtered.id==venue_id,'Station Min Distance'] = min(dataframe_charging_station_filtered['distance'])\n        "
        },
        {
            "cell_type": "code",
            "execution_count": 10,
            "metadata": {},
            "outputs": [],
            "source": "dataframe_hotel_filtered.dropna(subset=['Rating','Stations_Count_1500'],inplace=True)\ndataframe_hotel_filtered.drop(columns=['country','cc','categories','crossStreet','formattedAddress','labeledLatLngs','neighborhood','postalCode','state'],inplace=True)\n#dataframe_hotel_filtered = dataframe_hotel_filtered[dataframe_hotel_filtered.Stations_Count_1500 > 0]"
        },
        {
            "cell_type": "code",
            "execution_count": 11,
            "metadata": {},
            "outputs": [
                {
                    "data": {
                        "text/html": "<div>\n<style scoped>\n    .dataframe tbody tr th:only-of-type {\n        vertical-align: middle;\n    }\n\n    .dataframe tbody tr th {\n        vertical-align: top;\n    }\n\n    .dataframe thead th {\n        text-align: right;\n    }\n</style>\n<table border=\"1\" class=\"dataframe\">\n  <thead>\n    <tr style=\"text-align: right;\">\n      <th></th>\n      <th>name</th>\n      <th>address</th>\n      <th>city</th>\n      <th>distance</th>\n      <th>lat</th>\n      <th>lng</th>\n      <th>id</th>\n      <th>Rating</th>\n      <th>Stations_Count_1500</th>\n      <th>Stations_Count_1000</th>\n      <th>Stations_Count_500</th>\n      <th>Station Min Distance</th>\n      <th>Stations_Lat_1500</th>\n      <th>Stations_Lat_1000</th>\n      <th>Stations_Lat_500</th>\n      <th>Stations_Lng_1500</th>\n      <th>Stations_Lng_1000</th>\n      <th>Stations_Lng_500</th>\n    </tr>\n  </thead>\n  <tbody>\n  </tbody>\n</table>\n</div>",
                        "text/plain": "Empty DataFrame\nColumns: [name, address, city, distance, lat, lng, id, Rating, Stations_Count_1500, Stations_Count_1000, Stations_Count_500, Station Min Distance, Stations_Lat_1500, Stations_Lat_1000, Stations_Lat_500, Stations_Lng_1500, Stations_Lng_1000, Stations_Lng_500]\nIndex: []"
                    },
                    "execution_count": 11,
                    "metadata": {},
                    "output_type": "execute_result"
                }
            ],
            "source": "dataframe_hotel_filtered.head()"
        },
        {
            "cell_type": "code",
            "execution_count": 12,
            "metadata": {},
            "outputs": [
                {
                    "data": {
                        "text/plain": "Series([], Name: Rating, dtype: float64)"
                    },
                    "execution_count": 12,
                    "metadata": {},
                    "output_type": "execute_result"
                }
            ],
            "source": "dataframe_hotel_filtered['Rating']"
        },
        {
            "cell_type": "code",
            "execution_count": null,
            "metadata": {},
            "outputs": [],
            "source": ""
        },
        {
            "cell_type": "code",
            "execution_count": 13,
            "metadata": {},
            "outputs": [],
            "source": "dfObj = pd.DataFrame(columns=[])"
        },
        {
            "cell_type": "code",
            "execution_count": null,
            "metadata": {},
            "outputs": [],
            "source": ""
        }
    ],
    "metadata": {
        "kernelspec": {
            "display_name": "Python 3.6",
            "language": "python",
            "name": "python3"
        },
        "language_info": {
            "codemirror_mode": {
                "name": "ipython",
                "version": 3
            },
            "file_extension": ".py",
            "mimetype": "text/x-python",
            "name": "python",
            "nbconvert_exporter": "python",
            "pygments_lexer": "ipython3",
            "version": "3.6.9"
        }
    },
    "nbformat": 4,
    "nbformat_minor": 1
}